{
 "cells": [
  {
   "cell_type": "code",
   "execution_count": 1,
   "id": "e899f1e1",
   "metadata": {},
   "outputs": [],
   "source": [
    "import pandas as pd\n",
    "data = pd.read_csv('./Downloads/cleaned_loans_full_schema_loan1_Bool.csv')"
   ]
  },
  {
   "cell_type": "code",
   "execution_count": 2,
   "id": "741bcb48",
   "metadata": {},
   "outputs": [],
   "source": [
    "from dowhy import CausalModel"
   ]
  },
  {
   "cell_type": "code",
   "execution_count": 3,
   "id": "3f252740",
   "metadata": {},
   "outputs": [],
   "source": [
    "file = open(\"./Downloads/Final_t.dot\",'r')\n",
    "graph = file.read().replace(\"\\n\", \" \")\n",
    "file.close()"
   ]
  },
  {
   "cell_type": "code",
   "execution_count": 4,
   "id": "20308995",
   "metadata": {},
   "outputs": [
    {
     "name": "stdout",
     "output_type": "stream",
     "text": [
      "<class 'pandas.core.frame.DataFrame'>\n",
      "RangeIndex: 9167 entries, 0 to 9166\n",
      "Data columns (total 56 columns):\n",
      " #   Column                            Non-Null Count  Dtype  \n",
      "---  ------                            --------------  -----  \n",
      " 0   emp_title                         9167 non-null   object \n",
      " 1   emp_length                        9167 non-null   bool   \n",
      " 2   state                             9167 non-null   int64  \n",
      " 3   homeownership                     9167 non-null   bool   \n",
      " 4   annual_income                     9167 non-null   bool   \n",
      " 5   verified_income                   9167 non-null   int64  \n",
      " 6   debt_to_income                    9167 non-null   float64\n",
      " 7   annual_income_joint               9167 non-null   float64\n",
      " 8   verification_income_joint         9167 non-null   int64  \n",
      " 9   debt_to_income_joint              9167 non-null   float64\n",
      " 10  delinq_2y                         9167 non-null   int64  \n",
      " 11  months_since_last_delinq          9167 non-null   int64  \n",
      " 12  earliest_credit_line              9167 non-null   int64  \n",
      " 13  inquiries_last_12m                9167 non-null   int64  \n",
      " 14  total_credit_lines                9167 non-null   int64  \n",
      " 15  open_credit_lines                 9167 non-null   int64  \n",
      " 16  total_credit_limit                9167 non-null   int64  \n",
      " 17  total_credit_utilized             9167 non-null   int64  \n",
      " 18  num_collections_last_12m          9167 non-null   int64  \n",
      " 19  num_historical_failed_to_pay      9167 non-null   int64  \n",
      " 20  months_since_90d_late             9167 non-null   int64  \n",
      " 21  current_accounts_delinq           9167 non-null   int64  \n",
      " 22  total_collection_amount_ever      9167 non-null   int64  \n",
      " 23  current_installment_accounts      9167 non-null   int64  \n",
      " 24  accounts_opened_24m               9167 non-null   int64  \n",
      " 25  months_since_last_credit_inquiry  9167 non-null   int64  \n",
      " 26  num_satisfactory_accounts         9167 non-null   int64  \n",
      " 27  num_accounts_120d_past_due        9167 non-null   int64  \n",
      " 28  num_accounts_30d_past_due         9167 non-null   int64  \n",
      " 29  num_active_debit_accounts         9167 non-null   int64  \n",
      " 30  total_debit_limit                 9167 non-null   int64  \n",
      " 31  num_total_cc_accounts             9167 non-null   int64  \n",
      " 32  num_open_cc_accounts              9167 non-null   int64  \n",
      " 33  num_cc_carrying_balance           9167 non-null   int64  \n",
      " 34  num_mort_accounts                 9167 non-null   int64  \n",
      " 35  account_never_delinq_percent      9167 non-null   float64\n",
      " 36  tax_liens                         9167 non-null   int64  \n",
      " 37  public_record_bankrupt            9167 non-null   int64  \n",
      " 38  loan_purpose                      9167 non-null   int64  \n",
      " 39  application_type                  9167 non-null   int64  \n",
      " 40  loan_amount                       9167 non-null   int64  \n",
      " 41  term                              9167 non-null   int64  \n",
      " 42  interest_rate                     9167 non-null   float64\n",
      " 43  installment                       9167 non-null   float64\n",
      " 44  grade                             9167 non-null   object \n",
      " 45  sub_grade                         9167 non-null   object \n",
      " 46  issue_month                       9167 non-null   object \n",
      " 47  loan_status                       9167 non-null   int64  \n",
      " 48  initial_listing_status            9167 non-null   int64  \n",
      " 49  disbursement_method               9167 non-null   int64  \n",
      " 50  balance                           9167 non-null   float64\n",
      " 51  paid_total                        9167 non-null   float64\n",
      " 52  paid_principal                    9167 non-null   float64\n",
      " 53  paid_interest                     9167 non-null   float64\n",
      " 54  paid_late_fees                    9167 non-null   float64\n",
      " 55  Is_bad_loan                       9167 non-null   bool   \n",
      "dtypes: bool(4), float64(11), int64(37), object(4)\n",
      "memory usage: 3.7+ MB\n"
     ]
    }
   ],
   "source": [
    "data.info()"
   ]
  },
  {
   "cell_type": "code",
   "execution_count": 5,
   "id": "4ed7a171",
   "metadata": {},
   "outputs": [],
   "source": [
    "model= CausalModel(\n",
    "        data = data,\n",
    "        graph= graph,\n",
    "        treatment='emp_length',\n",
    "        outcome='Is_bad_loan')"
   ]
  },
  {
   "cell_type": "code",
   "execution_count": 6,
   "id": "72008674",
   "metadata": {},
   "outputs": [],
   "source": [
    "import warnings\n",
    "warnings.filterwarnings(\"ignore\")\n",
    "model.view_model()"
   ]
  },
  {
   "cell_type": "code",
   "execution_count": 7,
   "id": "c8a93c19",
   "metadata": {},
   "outputs": [],
   "source": [
    "identified_estimand = model.identify_effect(proceed_when_unidentifiable=True)"
   ]
  },
  {
   "cell_type": "code",
   "execution_count": 8,
   "id": "4454e24c",
   "metadata": {},
   "outputs": [
    {
     "name": "stdout",
     "output_type": "stream",
     "text": [
      "Estimand type: nonparametric-ate\n",
      "\n",
      "### Estimand : 1\n",
      "Estimand name: backdoor\n",
      "Estimand expression:\n",
      "      d                                                                       \n",
      "─────────────(Expectation(Is_bad_loan|total_credit_lines,loan_amount,term,acco\n",
      "d[emp_length]                                                                 \n",
      "\n",
      "                                                                              \n",
      "unt_never_delinq_percent,paid_late_fees,accounts_opened_24m,public_record_bank\n",
      "                                                                              \n",
      "\n",
      "                                                                              \n",
      "rupt,homeownership,num_mort_accounts,interest_rate,grade,loan_purpose,open_cre\n",
      "                                                                              \n",
      "\n",
      "                                                                              \n",
      "dit_lines,balance,initial_listing_status,state,earliest_credit_line,num_accoun\n",
      "                                                                              \n",
      "\n",
      "                                                                              \n",
      "ts_120d_past_due,months_since_last_delinq,num_active_debit_accounts,paid_princ\n",
      "                                                                              \n",
      "\n",
      "                                                                              \n",
      "ipal,paid_interest,inquiries_last_12m,num_satisfactory_accounts,num_cc_carryin\n",
      "                                                                              \n",
      "\n",
      "                                                                              \n",
      "g_balance,installment,sub_grade,current_installment_accounts,application_type,\n",
      "                                                                              \n",
      "\n",
      "                                                                              \n",
      "num_accounts_30d_past_due,num_total_cc_accounts,num_historical_failed_to_pay,t\n",
      "                                                                              \n",
      "\n",
      "                                                                              \n",
      "ax_liens,paid_total,num_open_cc_accounts,issue_month,disbursement_method,month\n",
      "                                                                              \n",
      "\n",
      "                                                                              \n",
      "s_since_last_credit_inquiry,debt_to_income,loan_status,annual_income,months_si\n",
      "                                                                              \n",
      "\n",
      "                                                           \n",
      "nce_90d_late,total_collection_amount_ever,verified_income))\n",
      "                                                           \n",
      "Estimand assumption 1, Unconfoundedness: If U→{emp_length} and U→Is_bad_loan then P(Is_bad_loan|emp_length,total_credit_lines,loan_amount,term,account_never_delinq_percent,paid_late_fees,accounts_opened_24m,public_record_bankrupt,homeownership,num_mort_accounts,interest_rate,grade,loan_purpose,open_credit_lines,balance,initial_listing_status,state,earliest_credit_line,num_accounts_120d_past_due,months_since_last_delinq,num_active_debit_accounts,paid_principal,paid_interest,inquiries_last_12m,num_satisfactory_accounts,num_cc_carrying_balance,installment,sub_grade,current_installment_accounts,application_type,num_accounts_30d_past_due,num_total_cc_accounts,num_historical_failed_to_pay,tax_liens,paid_total,num_open_cc_accounts,issue_month,disbursement_method,months_since_last_credit_inquiry,debt_to_income,loan_status,annual_income,months_since_90d_late,total_collection_amount_ever,verified_income,U) = P(Is_bad_loan|emp_length,total_credit_lines,loan_amount,term,account_never_delinq_percent,paid_late_fees,accounts_opened_24m,public_record_bankrupt,homeownership,num_mort_accounts,interest_rate,grade,loan_purpose,open_credit_lines,balance,initial_listing_status,state,earliest_credit_line,num_accounts_120d_past_due,months_since_last_delinq,num_active_debit_accounts,paid_principal,paid_interest,inquiries_last_12m,num_satisfactory_accounts,num_cc_carrying_balance,installment,sub_grade,current_installment_accounts,application_type,num_accounts_30d_past_due,num_total_cc_accounts,num_historical_failed_to_pay,tax_liens,paid_total,num_open_cc_accounts,issue_month,disbursement_method,months_since_last_credit_inquiry,debt_to_income,loan_status,annual_income,months_since_90d_late,total_collection_amount_ever,verified_income)\n",
      "\n",
      "### Estimand : 2\n",
      "Estimand name: iv\n",
      "No such variable found!\n",
      "\n",
      "### Estimand : 3\n",
      "Estimand name: frontdoor\n",
      "Estimand expression:\n",
      "Expectation(Derivative(Is_bad_loan, [total_credit_limit])*Derivative([total_cr\n",
      "edit_limit], [emp_length]))\n",
      "Estimand assumption 1, Full-mediation: total_credit_limit intercepts (blocks) all directed paths from emp_length to I,s,_,b,a,d,_,l,o,a,n.\n",
      "Estimand assumption 2, First-stage-unconfoundedness: If U→{emp_length} and U→{total_credit_limit} then P(total_credit_limit|emp_length,U) = P(total_credit_limit|emp_length)\n",
      "Estimand assumption 3, Second-stage-unconfoundedness: If U→{total_credit_limit} and U→Is_bad_loan then P(Is_bad_loan|total_credit_limit, emp_length, U) = P(Is_bad_loan|total_credit_limit, emp_length)\n",
      "\n"
     ]
    }
   ],
   "source": [
    "print(identified_estimand)"
   ]
  },
  {
   "cell_type": "code",
   "execution_count": 10,
   "id": "ba8e65b4",
   "metadata": {},
   "outputs": [],
   "source": [
    "estimate = model.estimate_effect(identified_estimand, \n",
    "                                 method_name=\"backdoor.propensity_score_matching\",test_significance=True)"
   ]
  },
  {
   "cell_type": "code",
   "execution_count": 11,
   "id": "9e3606fb",
   "metadata": {},
   "outputs": [
    {
     "name": "stdout",
     "output_type": "stream",
     "text": [
      "*** Causal Estimate ***\n",
      "\n",
      "## Identified estimand\n",
      "Estimand type: nonparametric-ate\n",
      "\n",
      "### Estimand : 1\n",
      "Estimand name: backdoor\n",
      "Estimand expression:\n",
      "      d                                                                       \n",
      "─────────────(Expectation(Is_bad_loan|installment,num_satisfactory_accounts,gr\n",
      "d[emp_length]                                                                 \n",
      "\n",
      "                                                                              \n",
      "ade,months_since_last_credit_inquiry,num_accounts_120d_past_due,issue_month,pa\n",
      "                                                                              \n",
      "\n",
      "                                                                              \n",
      "id_interest,num_accounts_30d_past_due,initial_listing_status,annual_income,sta\n",
      "                                                                              \n",
      "\n",
      "                                                                              \n",
      "te,earliest_credit_line,interest_rate,loan_purpose,open_credit_lines,num_open_\n",
      "                                                                              \n",
      "\n",
      "                                                                              \n",
      "cc_accounts,account_never_delinq_percent,num_total_cc_accounts,public_record_b\n",
      "                                                                              \n",
      "\n",
      "                                                                              \n",
      "ankrupt,num_cc_carrying_balance,accounts_opened_24m,loan_status,balance,months\n",
      "                                                                              \n",
      "\n",
      "                                                                              \n",
      "_since_90d_late,num_historical_failed_to_pay,loan_amount,paid_late_fees,paid_t\n",
      "                                                                              \n",
      "\n",
      "                                                                              \n",
      "otal,total_credit_lines,current_installment_accounts,sub_grade,disbursement_me\n",
      "                                                                              \n",
      "\n",
      "                                                                              \n",
      "thod,homeownership,term,application_type,months_since_last_delinq,tax_liens,nu\n",
      "                                                                              \n",
      "\n",
      "                                                                              \n",
      "m_active_debit_accounts,verified_income,paid_principal,inquiries_last_12m,tota\n",
      "                                                                              \n",
      "\n",
      "                                                           \n",
      "l_collection_amount_ever,debt_to_income,num_mort_accounts))\n",
      "                                                           \n",
      "Estimand assumption 1, Unconfoundedness: If U→{emp_length} and U→Is_bad_loan then P(Is_bad_loan|emp_length,installment,num_satisfactory_accounts,grade,months_since_last_credit_inquiry,num_accounts_120d_past_due,issue_month,paid_interest,num_accounts_30d_past_due,initial_listing_status,annual_income,state,earliest_credit_line,interest_rate,loan_purpose,open_credit_lines,num_open_cc_accounts,account_never_delinq_percent,num_total_cc_accounts,public_record_bankrupt,num_cc_carrying_balance,accounts_opened_24m,loan_status,balance,months_since_90d_late,num_historical_failed_to_pay,loan_amount,paid_late_fees,paid_total,total_credit_lines,current_installment_accounts,sub_grade,disbursement_method,homeownership,term,application_type,months_since_last_delinq,tax_liens,num_active_debit_accounts,verified_income,paid_principal,inquiries_last_12m,total_collection_amount_ever,debt_to_income,num_mort_accounts,U) = P(Is_bad_loan|emp_length,installment,num_satisfactory_accounts,grade,months_since_last_credit_inquiry,num_accounts_120d_past_due,issue_month,paid_interest,num_accounts_30d_past_due,initial_listing_status,annual_income,state,earliest_credit_line,interest_rate,loan_purpose,open_credit_lines,num_open_cc_accounts,account_never_delinq_percent,num_total_cc_accounts,public_record_bankrupt,num_cc_carrying_balance,accounts_opened_24m,loan_status,balance,months_since_90d_late,num_historical_failed_to_pay,loan_amount,paid_late_fees,paid_total,total_credit_lines,current_installment_accounts,sub_grade,disbursement_method,homeownership,term,application_type,months_since_last_delinq,tax_liens,num_active_debit_accounts,verified_income,paid_principal,inquiries_last_12m,total_collection_amount_ever,debt_to_income,num_mort_accounts)\n",
      "\n",
      "## Realized estimand\n",
      "b: Is_bad_loan~emp_length+installment+num_satisfactory_accounts+grade+months_since_last_credit_inquiry+num_accounts_120d_past_due+issue_month+paid_interest+num_accounts_30d_past_due+initial_listing_status+annual_income+state+earliest_credit_line+interest_rate+loan_purpose+open_credit_lines+num_open_cc_accounts+account_never_delinq_percent+num_total_cc_accounts+public_record_bankrupt+num_cc_carrying_balance+accounts_opened_24m+loan_status+balance+months_since_90d_late+num_historical_failed_to_pay+loan_amount+paid_late_fees+paid_total+total_credit_lines+current_installment_accounts+sub_grade+disbursement_method+homeownership+term+application_type+months_since_last_delinq+tax_liens+num_active_debit_accounts+verified_income+paid_principal+inquiries_last_12m+total_collection_amount_ever+debt_to_income+num_mort_accounts\n",
      "Target units: ate\n",
      "\n",
      "## Estimate\n",
      "Mean value: -0.00032726082687902256\n",
      "p-value: 0.477\n",
      "\n"
     ]
    }
   ],
   "source": [
    "print(estimate)"
   ]
  },
  {
   "cell_type": "code",
   "execution_count": 12,
   "id": "d335e931",
   "metadata": {},
   "outputs": [
    {
     "name": "stdout",
     "output_type": "stream",
     "text": [
      "Refute: Add a Random Common Cause\n",
      "Estimated effect:-0.00032726082687902256\n",
      "New effect:-0.0007636085960510527\n",
      "\n"
     ]
    }
   ],
   "source": [
    "refuter1=model.refute_estimate(identified_estimand, estimate, method_name=\"random_common_cause\")\n",
    "print(refuter1)"
   ]
  },
  {
   "cell_type": "code",
   "execution_count": 13,
   "id": "2cf2f63d",
   "metadata": {},
   "outputs": [
    {
     "name": "stdout",
     "output_type": "stream",
     "text": [
      "Refute: Use a Placebo Treatment\n",
      "Estimated effect:-0.00032726082687902256\n",
      "New effect:0.0008726955383440602\n",
      "p value:0.2291939543589669\n",
      "\n"
     ]
    }
   ],
   "source": [
    "refuter2=model.refute_estimate(identified_estimand, estimate, method_name=\"placebo_treatment_refuter\",\n",
    "                              placebo_type=\"permute\", num_simulations=5)\n",
    "print(refuter2)"
   ]
  },
  {
   "cell_type": "code",
   "execution_count": 14,
   "id": "3a1355b7",
   "metadata": {},
   "outputs": [
    {
     "name": "stdout",
     "output_type": "stream",
     "text": [
      "Refute: Use a subset of data\n",
      "Estimated effect:-0.00032726082687902256\n",
      "New effect:-0.0008140169075538588\n",
      "p value:0.39\n",
      "\n"
     ]
    }
   ],
   "source": [
    "refuter3=model.refute_estimate(identified_estimand, estimate,  method_name=\"data_subset_refuter\")\n",
    "print(refuter3)"
   ]
  },
  {
   "cell_type": "code",
   "execution_count": 15,
   "id": "2fe2db02",
   "metadata": {},
   "outputs": [
    {
     "name": "stdout",
     "output_type": "stream",
     "text": [
      "Refute: Bootstrap Sample Dataset\n",
      "Estimated effect:-0.00032726082687902256\n",
      "New effect:0.0005017999345478344\n",
      "p value:0.4432054892217853\n",
      "\n"
     ]
    }
   ],
   "source": [
    "refuter4=model.refute_estimate(identified_estimand, estimate,  method_name=\"bootstrap_refuter\", num_simulations=5)\n",
    "print(refuter4)"
   ]
  },
  {
   "cell_type": "code",
   "execution_count": 9,
   "id": "3113ad53",
   "metadata": {},
   "outputs": [
    {
     "name": "stdout",
     "output_type": "stream",
     "text": [
      "*** Causal Estimate ***\n",
      "\n",
      "## Identified estimand\n",
      "Estimand type: nonparametric-ate\n",
      "\n",
      "### Estimand : 1\n",
      "Estimand name: backdoor\n",
      "Estimand expression:\n",
      "      d                                                                       \n",
      "─────────────(Expectation(Is_bad_loan|total_credit_lines,loan_amount,term,acco\n",
      "d[emp_length]                                                                 \n",
      "\n",
      "                                                                              \n",
      "unt_never_delinq_percent,paid_late_fees,accounts_opened_24m,public_record_bank\n",
      "                                                                              \n",
      "\n",
      "                                                                              \n",
      "rupt,homeownership,num_mort_accounts,interest_rate,grade,loan_purpose,open_cre\n",
      "                                                                              \n",
      "\n",
      "                                                                              \n",
      "dit_lines,balance,initial_listing_status,state,earliest_credit_line,num_accoun\n",
      "                                                                              \n",
      "\n",
      "                                                                              \n",
      "ts_120d_past_due,months_since_last_delinq,num_active_debit_accounts,paid_princ\n",
      "                                                                              \n",
      "\n",
      "                                                                              \n",
      "ipal,paid_interest,inquiries_last_12m,num_satisfactory_accounts,num_cc_carryin\n",
      "                                                                              \n",
      "\n",
      "                                                                              \n",
      "g_balance,installment,sub_grade,current_installment_accounts,application_type,\n",
      "                                                                              \n",
      "\n",
      "                                                                              \n",
      "num_accounts_30d_past_due,num_total_cc_accounts,num_historical_failed_to_pay,t\n",
      "                                                                              \n",
      "\n",
      "                                                                              \n",
      "ax_liens,paid_total,num_open_cc_accounts,issue_month,disbursement_method,month\n",
      "                                                                              \n",
      "\n",
      "                                                                              \n",
      "s_since_last_credit_inquiry,debt_to_income,loan_status,annual_income,months_si\n",
      "                                                                              \n",
      "\n",
      "                                                           \n",
      "nce_90d_late,total_collection_amount_ever,verified_income))\n",
      "                                                           \n",
      "Estimand assumption 1, Unconfoundedness: If U→{emp_length} and U→Is_bad_loan then P(Is_bad_loan|emp_length,total_credit_lines,loan_amount,term,account_never_delinq_percent,paid_late_fees,accounts_opened_24m,public_record_bankrupt,homeownership,num_mort_accounts,interest_rate,grade,loan_purpose,open_credit_lines,balance,initial_listing_status,state,earliest_credit_line,num_accounts_120d_past_due,months_since_last_delinq,num_active_debit_accounts,paid_principal,paid_interest,inquiries_last_12m,num_satisfactory_accounts,num_cc_carrying_balance,installment,sub_grade,current_installment_accounts,application_type,num_accounts_30d_past_due,num_total_cc_accounts,num_historical_failed_to_pay,tax_liens,paid_total,num_open_cc_accounts,issue_month,disbursement_method,months_since_last_credit_inquiry,debt_to_income,loan_status,annual_income,months_since_90d_late,total_collection_amount_ever,verified_income,U) = P(Is_bad_loan|emp_length,total_credit_lines,loan_amount,term,account_never_delinq_percent,paid_late_fees,accounts_opened_24m,public_record_bankrupt,homeownership,num_mort_accounts,interest_rate,grade,loan_purpose,open_credit_lines,balance,initial_listing_status,state,earliest_credit_line,num_accounts_120d_past_due,months_since_last_delinq,num_active_debit_accounts,paid_principal,paid_interest,inquiries_last_12m,num_satisfactory_accounts,num_cc_carrying_balance,installment,sub_grade,current_installment_accounts,application_type,num_accounts_30d_past_due,num_total_cc_accounts,num_historical_failed_to_pay,tax_liens,paid_total,num_open_cc_accounts,issue_month,disbursement_method,months_since_last_credit_inquiry,debt_to_income,loan_status,annual_income,months_since_90d_late,total_collection_amount_ever,verified_income)\n",
      "\n",
      "## Realized estimand\n",
      "b: Is_bad_loan~emp_length+total_credit_lines+loan_amount+term+account_never_delinq_percent+paid_late_fees+accounts_opened_24m+public_record_bankrupt+homeownership+num_mort_accounts+interest_rate+grade+loan_purpose+open_credit_lines+balance+initial_listing_status+state+earliest_credit_line+num_accounts_120d_past_due+months_since_last_delinq+num_active_debit_accounts+paid_principal+paid_interest+inquiries_last_12m+num_satisfactory_accounts+num_cc_carrying_balance+installment+sub_grade+current_installment_accounts+application_type+num_accounts_30d_past_due+num_total_cc_accounts+num_historical_failed_to_pay+tax_liens+paid_total+num_open_cc_accounts+issue_month+disbursement_method+months_since_last_credit_inquiry+debt_to_income+loan_status+annual_income+months_since_90d_late+total_collection_amount_ever+verified_income\n",
      "Target units: ate\n",
      "\n",
      "## Estimate\n",
      "Mean value: -0.0005392590083168683\n",
      "p-value: [0.71286959]\n",
      "\n"
     ]
    }
   ],
   "source": [
    "estimate = model.estimate_effect(identified_estimand, \n",
    "                                 method_name=\"backdoor.linear_regression\",test_significance=True)\n",
    "print(estimate)"
   ]
  },
  {
   "cell_type": "code",
   "execution_count": 10,
   "id": "582d5a04",
   "metadata": {},
   "outputs": [
    {
     "name": "stdout",
     "output_type": "stream",
     "text": [
      "Refute: Add a Random Common Cause\n",
      "Estimated effect:-0.0005392590083168683\n",
      "New effect:-0.0005437375326614521\n",
      "\n"
     ]
    }
   ],
   "source": [
    "refuter1=model.refute_estimate(identified_estimand, estimate, method_name=\"random_common_cause\")\n",
    "print(refuter1)"
   ]
  },
  {
   "cell_type": "code",
   "execution_count": 11,
   "id": "0dc16f62",
   "metadata": {},
   "outputs": [
    {
     "name": "stdout",
     "output_type": "stream",
     "text": [
      "Refute: Use a Placebo Treatment\n",
      "Estimated effect:-0.0005392590083168683\n",
      "New effect:-0.0010234369440739618\n",
      "p value:0.15472814811047497\n",
      "\n"
     ]
    }
   ],
   "source": [
    "refuter2=model.refute_estimate(identified_estimand, estimate, method_name=\"placebo_treatment_refuter\",\n",
    "                              placebo_type=\"permute\", num_simulations=5)\n",
    "print(refuter2)"
   ]
  },
  {
   "cell_type": "code",
   "execution_count": 12,
   "id": "174652f6",
   "metadata": {},
   "outputs": [
    {
     "name": "stdout",
     "output_type": "stream",
     "text": [
      "Refute: Use a subset of data\n",
      "Estimated effect:-0.0005392590083168683\n",
      "New effect:-0.0005444604263136515\n",
      "p value:0.48\n",
      "\n"
     ]
    }
   ],
   "source": [
    "refuter3=model.refute_estimate(identified_estimand, estimate,  method_name=\"data_subset_refuter\")\n",
    "print(refuter3)"
   ]
  },
  {
   "cell_type": "code",
   "execution_count": 13,
   "id": "79c1cc49",
   "metadata": {},
   "outputs": [
    {
     "name": "stdout",
     "output_type": "stream",
     "text": [
      "Refute: Bootstrap Sample Dataset\n",
      "Estimated effect:-0.0005392590083168683\n",
      "New effect:-0.0011010106858555843\n",
      "p value:0.3818153220190198\n",
      "\n"
     ]
    }
   ],
   "source": [
    "refuter4=model.refute_estimate(identified_estimand, estimate,  method_name=\"bootstrap_refuter\", num_simulations=5)\n",
    "print(refuter4)"
   ]
  },
  {
   "cell_type": "code",
   "execution_count": null,
   "id": "6e402819",
   "metadata": {},
   "outputs": [],
   "source": []
  }
 ],
 "metadata": {
  "kernelspec": {
   "display_name": "Python 3",
   "language": "python",
   "name": "python3"
  },
  "language_info": {
   "codemirror_mode": {
    "name": "ipython",
    "version": 3
   },
   "file_extension": ".py",
   "mimetype": "text/x-python",
   "name": "python",
   "nbconvert_exporter": "python",
   "pygments_lexer": "ipython3",
   "version": "3.8.8"
  }
 },
 "nbformat": 4,
 "nbformat_minor": 5
}
