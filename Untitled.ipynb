{
 "cells": [
  {
   "cell_type": "code",
   "execution_count": 2,
   "id": "156f4c28",
   "metadata": {},
   "outputs": [],
   "source": [
    "import numpy as np\n",
    "import pandas as pd\n",
    "import logging\n",
    "\n",
    "import dowhy\n",
    "from dowhy import CausalModel\n",
    "import dowhy.datasets\n",
    "\n",
    "import warnings\n",
    "warnings.filterwarnings('ignore')"
   ]
  },
  {
   "cell_type": "code",
   "execution_count": 3,
   "id": "37bf0bc0",
   "metadata": {},
   "outputs": [
    {
     "data": {
      "text/html": [
       "<div>\n",
       "<style scoped>\n",
       "    .dataframe tbody tr th:only-of-type {\n",
       "        vertical-align: middle;\n",
       "    }\n",
       "\n",
       "    .dataframe tbody tr th {\n",
       "        vertical-align: top;\n",
       "    }\n",
       "\n",
       "    .dataframe thead th {\n",
       "        text-align: right;\n",
       "    }\n",
       "</style>\n",
       "<table border=\"1\" class=\"dataframe\">\n",
       "  <thead>\n",
       "    <tr style=\"text-align: right;\">\n",
       "      <th></th>\n",
       "      <th>X0</th>\n",
       "      <th>X1</th>\n",
       "      <th>W0</th>\n",
       "      <th>W1</th>\n",
       "      <th>W2</th>\n",
       "      <th>W3</th>\n",
       "      <th>v0</th>\n",
       "      <th>v1</th>\n",
       "      <th>y</th>\n",
       "    </tr>\n",
       "  </thead>\n",
       "  <tbody>\n",
       "    <tr>\n",
       "      <th>0</th>\n",
       "      <td>0.440098</td>\n",
       "      <td>0.055711</td>\n",
       "      <td>0.818105</td>\n",
       "      <td>0.171784</td>\n",
       "      <td>0</td>\n",
       "      <td>2</td>\n",
       "      <td>3.037982</td>\n",
       "      <td>13.128663</td>\n",
       "      <td>234.134631</td>\n",
       "    </tr>\n",
       "    <tr>\n",
       "      <th>1</th>\n",
       "      <td>-1.113773</td>\n",
       "      <td>0.069691</td>\n",
       "      <td>-1.262929</td>\n",
       "      <td>-0.097270</td>\n",
       "      <td>2</td>\n",
       "      <td>3</td>\n",
       "      <td>0.470395</td>\n",
       "      <td>22.129327</td>\n",
       "      <td>201.675666</td>\n",
       "    </tr>\n",
       "    <tr>\n",
       "      <th>2</th>\n",
       "      <td>1.093558</td>\n",
       "      <td>0.699902</td>\n",
       "      <td>0.914103</td>\n",
       "      <td>-0.516630</td>\n",
       "      <td>3</td>\n",
       "      <td>1</td>\n",
       "      <td>4.097651</td>\n",
       "      <td>20.200462</td>\n",
       "      <td>647.949259</td>\n",
       "    </tr>\n",
       "    <tr>\n",
       "      <th>3</th>\n",
       "      <td>-1.015766</td>\n",
       "      <td>0.091341</td>\n",
       "      <td>0.834153</td>\n",
       "      <td>1.505331</td>\n",
       "      <td>3</td>\n",
       "      <td>2</td>\n",
       "      <td>7.946827</td>\n",
       "      <td>29.350943</td>\n",
       "      <td>-348.893940</td>\n",
       "    </tr>\n",
       "    <tr>\n",
       "      <th>4</th>\n",
       "      <td>-0.858581</td>\n",
       "      <td>0.401877</td>\n",
       "      <td>0.450003</td>\n",
       "      <td>-0.715591</td>\n",
       "      <td>0</td>\n",
       "      <td>3</td>\n",
       "      <td>-1.360354</td>\n",
       "      <td>11.436267</td>\n",
       "      <td>146.793396</td>\n",
       "    </tr>\n",
       "  </tbody>\n",
       "</table>\n",
       "</div>"
      ],
      "text/plain": [
       "         X0        X1        W0        W1 W2 W3        v0         v1  \\\n",
       "0  0.440098  0.055711  0.818105  0.171784  0  2  3.037982  13.128663   \n",
       "1 -1.113773  0.069691 -1.262929 -0.097270  2  3  0.470395  22.129327   \n",
       "2  1.093558  0.699902  0.914103 -0.516630  3  1  4.097651  20.200462   \n",
       "3 -1.015766  0.091341  0.834153  1.505331  3  2  7.946827  29.350943   \n",
       "4 -0.858581  0.401877  0.450003 -0.715591  0  3 -1.360354  11.436267   \n",
       "\n",
       "            y  \n",
       "0  234.134631  \n",
       "1  201.675666  \n",
       "2  647.949259  \n",
       "3 -348.893940  \n",
       "4  146.793396  "
      ]
     },
     "execution_count": 3,
     "metadata": {},
     "output_type": "execute_result"
    }
   ],
   "source": [
    "data = dowhy.datasets.linear_dataset(10, num_common_causes=4, num_samples=10000,\n",
    "                                    num_instruments=0, num_effect_modifiers=2,\n",
    "                                     num_treatments=2,\n",
    "                                    treatment_is_binary=False,\n",
    "                                    num_discrete_common_causes=2,\n",
    "                                    num_discrete_effect_modifiers=0,\n",
    "                                    one_hot_encode=False)\n",
    "df=data['df']\n",
    "df.head()"
   ]
  },
  {
   "cell_type": "code",
   "execution_count": 6,
   "id": "f96997ff",
   "metadata": {},
   "outputs": [
    {
     "data": {
      "text/plain": [
       "['v0', 'v1']"
      ]
     },
     "execution_count": 6,
     "metadata": {},
     "output_type": "execute_result"
    }
   ],
   "source": [
    "treatment=data[\"treatment_name\"]\n",
    "treatment"
   ]
  },
  {
   "cell_type": "code",
   "execution_count": null,
   "id": "98401949",
   "metadata": {},
   "outputs": [],
   "source": [
    "outcome=data[\"outcome_name\"]"
   ]
  },
  {
   "cell_type": "code",
   "execution_count": null,
   "id": "35c5cbf0",
   "metadata": {},
   "outputs": [],
   "source": []
  }
 ],
 "metadata": {
  "kernelspec": {
   "display_name": "Python 3",
   "language": "python",
   "name": "python3"
  },
  "language_info": {
   "codemirror_mode": {
    "name": "ipython",
    "version": 3
   },
   "file_extension": ".py",
   "mimetype": "text/x-python",
   "name": "python",
   "nbconvert_exporter": "python",
   "pygments_lexer": "ipython3",
   "version": "3.8.5"
  }
 },
 "nbformat": 4,
 "nbformat_minor": 5
}
